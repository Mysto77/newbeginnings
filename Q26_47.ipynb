{
  "nbformat": 4,
  "nbformat_minor": 0,
  "metadata": {
    "colab": {
      "provenance": [],
      "authorship_tag": "ABX9TyMTW63clDRz5xilacmLzErv",
      "include_colab_link": true
    },
    "kernelspec": {
      "name": "python3",
      "display_name": "Python 3"
    },
    "language_info": {
      "name": "python"
    }
  },
  "cells": [
    {
      "cell_type": "markdown",
      "metadata": {
        "id": "view-in-github",
        "colab_type": "text"
      },
      "source": [
        "<a href=\"https://colab.research.google.com/github/Mysto77/testing/blob/main/Q26_47.ipynb\" target=\"_parent\"><img src=\"https://colab.research.google.com/assets/colab-badge.svg\" alt=\"Open In Colab\"/></a>"
      ]
    },
    {
      "cell_type": "markdown",
      "source": [
        "Q26"
      ],
      "metadata": {
        "id": "pM0BOhn9EVoZ"
      }
    },
    {
      "cell_type": "code",
      "source": [
        "num1=int(input(\"Enter the Dividend \"))                                #Dividend is the no to be divided\n",
        "num2=int(input(\"Enter the Divisor \"))                                 #Divisor is the no that is used to divide the Divdend\n",
        "quo=int(num1/num2); rem =num1%num2\n",
        "print(f\"Upon performing division,\\nThe Quotient was found to be {quo} and\\n remainder is {rem} \")\n",
        "\n",
        "input(\"press enter to exit\")"
      ],
      "metadata": {
        "colab": {
          "base_uri": "https://localhost:8080/",
          "height": 140
        },
        "id": "Nob2fO24EVAT",
        "outputId": "c8ca2156-b50c-48c8-aa78-418e5940840d"
      },
      "execution_count": null,
      "outputs": [
        {
          "name": "stdout",
          "output_type": "stream",
          "text": [
            "Enter the Dividend 58\n",
            "Enter the Divisor 5\n",
            "Upon performing division,\n",
            "The Quotient was found to be 11 and\n",
            " remainder is 3 \n",
            "press enter to exit\n"
          ]
        },
        {
          "output_type": "execute_result",
          "data": {
            "text/plain": [
              "''"
            ],
            "application/vnd.google.colaboratory.intrinsic+json": {
              "type": "string"
            }
          },
          "metadata": {},
          "execution_count": 1
        }
      ]
    },
    {
      "cell_type": "markdown",
      "source": [
        "Q27"
      ],
      "metadata": {
        "id": "Y6jMg8TZE9-M"
      }
    },
    {
      "cell_type": "code",
      "source": [
        "num1=int(input(\"Enter the Base \"))\n",
        "num2=int(input(\"Enter the Exponent \"))\n",
        "z=num1**num2                                                #** is used to represent to the power of so A**B is the same as A^B\n",
        "print(f\"The result obtained is {z}\")\n",
        "input(\"press enter to exit\")"
      ],
      "metadata": {
        "colab": {
          "base_uri": "https://localhost:8080/"
        },
        "id": "1PDb6WWDE7Ls",
        "outputId": "4d73a3e0-6da5-4f62-c777-f7536b35b676"
      },
      "execution_count": null,
      "outputs": [
        {
          "output_type": "stream",
          "name": "stdout",
          "text": [
            "Enter the Base 2\n",
            "Enter the Exponent 8\n",
            "The result obtained is 256\n"
          ]
        }
      ]
    },
    {
      "cell_type": "markdown",
      "source": [
        "Q28"
      ],
      "metadata": {
        "id": "YKOhkNt6Fw_J"
      }
    },
    {
      "cell_type": "code",
      "execution_count": null,
      "metadata": {
        "colab": {
          "base_uri": "https://localhost:8080/",
          "height": 122
        },
        "id": "zwZ_BnhyETuh",
        "outputId": "7a9fa0fe-5670-405a-ad06-fa3e0bd0b4f0"
      },
      "outputs": [
        {
          "name": "stdout",
          "output_type": "stream",
          "text": [
            "enter the Angle in degrees 30\n",
            "The Sine of 30.0 :0.4999996169872557 \n",
            " The Cosine of 30.0 :0.8660256249168368 \n",
            " The Tangent of 30.0: 0.5773496795031555\n",
            "Press enter to exit\n"
          ]
        },
        {
          "output_type": "execute_result",
          "data": {
            "text/plain": [
              "''"
            ],
            "application/vnd.google.colaboratory.intrinsic+json": {
              "type": "string"
            }
          },
          "metadata": {},
          "execution_count": 11
        }
      ],
      "source": [
        "import math as mt                                                                   #importing lib\n",
        "angD =float(input(\"enter the Angle in degrees \"))\n",
        "angR=float((angD*3.14159)/180)                                                      #Pi= 3.14159\n",
        "angSin=mt.sin(angR)\n",
        "angCos=mt.cos(angR)\n",
        "angTan=mt.tan(angR)\n",
        "print(f\"The Sine of {angD} :{angSin} \\n The Cosine of {angD} :{angCos} \\n The Tangent of {angD}: {angTan}\")\n",
        "input(\"Press enter to exit\")\n"
      ]
    },
    {
      "cell_type": "markdown",
      "source": [
        "Q29"
      ],
      "metadata": {
        "id": "RXYy64thM-sK"
      }
    },
    {
      "cell_type": "code",
      "source": [
        "import math as mt\n",
        "angD =float(input(\"enter the Angle in degrees \"))\n",
        "angR=float((angD*3.14159)/180)\n",
        "angSin=mt.sin(angR)\n",
        "angCos=mt.cos(angR)\n",
        "angTan=mt.tan(angR)\n",
        "lN=mt.log(angR)\n",
        "lTn=mt.log(angR,10)\n",
        "lTw=mt.log(angR,2)\n",
        "print(f\"The Sine of {angD} :{angSin} \\n The Cosine of {angD} :{angCos} \\n The Tangent of {angD}: {angTan}\")\n",
        "print(f\"The natural Log ln  of {angR} :{lN} \\n The Log(base 10) of {angR} :{lTw} \\n The Tangent of {angR}: {lTn}\")\n",
        "input(\"Press enter to exit\")"
      ],
      "metadata": {
        "colab": {
          "base_uri": "https://localhost:8080/",
          "height": 174
        },
        "id": "CCYcUARXM9NR",
        "outputId": "2229096e-db42-4452-dbe9-4b2b9df75b98"
      },
      "execution_count": null,
      "outputs": [
        {
          "name": "stdout",
          "output_type": "stream",
          "text": [
            "enter the Angle in degrees 30\n",
            "The Sine of 30.0 :0.4999996169872557 \n",
            " The Cosine of 30.0 :0.8660256249168368 \n",
            " The Tangent of 30.0: 0.5773496795031555\n",
            "The natural Log ln  of 0.5235983333333333 :-0.6470304280428767 \n",
            " The Log(base 10) of 0.5235983333333333 :-0.9334675898417215 \n",
            " The Tangent of 0.5235983333333333: -0.28100174452252036\n",
            "Press enter to exit\n"
          ]
        },
        {
          "output_type": "execute_result",
          "data": {
            "text/plain": [
              "''"
            ],
            "application/vnd.google.colaboratory.intrinsic+json": {
              "type": "string"
            }
          },
          "metadata": {},
          "execution_count": 13
        }
      ]
    },
    {
      "cell_type": "markdown",
      "source": [
        "Q30"
      ],
      "metadata": {
        "id": "AbdO5oRbQTFo"
      }
    },
    {
      "cell_type": "code",
      "source": [
        "if((4>3 or 12>=3)and 4==3 ):                                                      # if Statement  is used to check if the condition is true\n",
        "  print(\"TRUE\")\n",
        "else:\n",
        "  print(\"False\")"
      ],
      "metadata": {
        "colab": {
          "base_uri": "https://localhost:8080/"
        },
        "id": "3bXqmZ7RQUW6",
        "outputId": "4f6292a2-4c10-44e2-e4d2-2b15ce56fefc"
      },
      "execution_count": null,
      "outputs": [
        {
          "output_type": "stream",
          "name": "stdout",
          "text": [
            "False\n"
          ]
        }
      ]
    },
    {
      "cell_type": "markdown",
      "source": [
        "Q31"
      ],
      "metadata": {
        "id": "WgL8R7H1R7YP"
      }
    },
    {
      "cell_type": "code",
      "source": [
        "n=int(input(\"Enter the two number that you want to compare \\n\"))\n",
        "m=int(input(\"\\n\"))\n",
        "if(n<m):\n",
        "  print(f\"You entered {n} which is less than {m}\")\n",
        "elif(n==m):\n",
        "  print(f\"You entered {n} which is equal to {m}\")\n",
        "elif(n>m):\n",
        "  print(f\"You entered {n} which is greater than {m}\")\n",
        "else:\n",
        "  print(\"Invalid Input\")\n",
        "input(\"press enter to continue\")"
      ],
      "metadata": {
        "colab": {
          "base_uri": "https://localhost:8080/",
          "height": 140
        },
        "id": "0KnHWmaUR5Nm",
        "outputId": "aa5c7c90-0034-4bb3-f5a0-17811643ac53"
      },
      "execution_count": null,
      "outputs": [
        {
          "name": "stdout",
          "output_type": "stream",
          "text": [
            "Enter the two number that you want to compare \n",
            "56\n",
            "\n",
            "78\n",
            "You entered 56 which is less than 78\n",
            "press enter to continue\n"
          ]
        },
        {
          "output_type": "execute_result",
          "data": {
            "text/plain": [
              "''"
            ],
            "application/vnd.google.colaboratory.intrinsic+json": {
              "type": "string"
            }
          },
          "metadata": {},
          "execution_count": 19
        }
      ]
    },
    {
      "cell_type": "markdown",
      "source": [
        "Q32"
      ],
      "metadata": {
        "id": "gxf-q76vUu3b"
      }
    },
    {
      "cell_type": "code",
      "source": [
        "a=float(input(\"Enter the Coefficient of x^2: \"))\n",
        "b=float(input(\"Enter the Coefficient of x: \"))\n",
        "c=float(input(\"Enter the constant: \"))\n",
        "if(((b**2)-(4*a*c))>0):\n",
        "  print(f\"The quadratic equation {a}X^2+{b}X+{c} has two distinct real roots.\") #Since Discriminant is +ve; there are two distinct real roots\n",
        "elif(((b**2)-(4*a*c))==0):\n",
        "  print(f\"The quadratic equation {a}X^2+{b}X+{c} has One repeated real root.\") #Since Discriminant is +ve; there are two distinct real roots\n",
        "else:\n",
        "  print(f\"The quadratic equation {a}X^2+{b}X+{c} has Two complex roots.\") #Since Discriminant is +ve; there are two distinct real roots\n",
        "input(\"press enter to continue\")"
      ],
      "metadata": {
        "colab": {
          "base_uri": "https://localhost:8080/",
          "height": 122
        },
        "id": "hu_VINaSUxCd",
        "outputId": "9eb6b855-faa7-4959-9347-98504c4cc665"
      },
      "execution_count": null,
      "outputs": [
        {
          "name": "stdout",
          "output_type": "stream",
          "text": [
            "Enter the Coefficient of x^2: 1\n",
            "Enter the Coefficient of x: 4\n",
            "Enter the constant: 4\n",
            "The quadratic equation 1.0X^2+4.0X+4.0 has One repeated real root.\n",
            "press enter to continue\n"
          ]
        },
        {
          "output_type": "execute_result",
          "data": {
            "text/plain": [
              "''"
            ],
            "application/vnd.google.colaboratory.intrinsic+json": {
              "type": "string"
            }
          },
          "metadata": {},
          "execution_count": 30
        }
      ]
    },
    {
      "cell_type": "markdown",
      "source": [
        "Q33"
      ],
      "metadata": {
        "id": "Nzmk9GW8pzVt"
      }
    },
    {
      "cell_type": "code",
      "source": [
        "import math as mt\n",
        "a=float(input(\"Enter the Coefficient of x^2: \"))\n",
        "b=float(input(\"Enter the Coefficient of x: \"))\n",
        "c=float(input(\"Enter the constant: \"))\n",
        "dis=((b**2)-(4*a*c))\n",
        "\n",
        "\n",
        "if(dis>0):\n",
        "  print(f\"The quadratic equation {a}X^2+{b}X+{c} has two distinct real roots which are \\n.\") #Since Discriminant is +ve; there are two distinct real roots\n",
        "  mgRr1=((-b/(2*a))+((mt.sqrt(dis))/(2*a)))\n",
        "  mgRr2=((-b/(2*a))-((mt.sqrt(dis))/(2*a)))\n",
        "  print(f\"Root1: {mgRr1} \\nRoot2: {mgRr2}\")\n",
        "elif(dis==0):\n",
        "  mgR0=(-b/(2*a))\n",
        "  print(f\"The quadratic equation {a}X^2+{b}X+{c} has One repeated real root and that root is \\n {mgR0}.\") #Since Discriminant is +ve; there are two distinct real roots\n",
        "else:\n",
        "  print(f\"The quadratic equation {a}X^2+{b}X+{c} has Two complex roots.\") #Since Discriminant is +ve; there are two distinct real roots\n",
        "  mgRi=(-b/(2*a))\n",
        "  mgI=((mt.sqrt(abs(dis)))/(2*a))\n",
        "  print(f\"The roots are {mgRi}+i{mgI} & {mgRi}-i{mgI}\") #Calculate the magnitude of real and imaginary nos properly.\n",
        "  input(\"press enter to continue\")"
      ],
      "metadata": {
        "colab": {
          "base_uri": "https://localhost:8080/"
        },
        "id": "CbkG-avmZyq1",
        "outputId": "1fdd4bf7-c205-4bcb-9f97-e87f0fa6fac3"
      },
      "execution_count": null,
      "outputs": [
        {
          "name": "stdout",
          "output_type": "stream",
          "text": [
            "Enter the Coefficient of x^2: 1\n",
            "Enter the Coefficient of x: 3\n",
            "Enter the constant: 4\n",
            "The quadratic equation 1.0X^2+3.0X+4.0 has Two complex roots.\n",
            "The roots are -1.5+i1.3228756555322954 & -1.5-i1.3228756555322954\n",
            "press enter to continue\n"
          ]
        }
      ]
    },
    {
      "cell_type": "markdown",
      "source": [
        "Q34"
      ],
      "metadata": {
        "id": "bQ_fD9jPp2rH"
      }
    },
    {
      "cell_type": "code",
      "source": [
        "for toaru in range(10):\n",
        "  print(toaru)"
      ],
      "metadata": {
        "colab": {
          "base_uri": "https://localhost:8080/"
        },
        "id": "4Tiee66lpfft",
        "outputId": "32606718-e0d9-4ad6-cd2e-4cfd171ace2e"
      },
      "execution_count": null,
      "outputs": [
        {
          "output_type": "stream",
          "name": "stdout",
          "text": [
            "0\n",
            "1\n",
            "2\n",
            "3\n",
            "4\n",
            "5\n",
            "6\n",
            "7\n",
            "8\n",
            "9\n"
          ]
        }
      ]
    },
    {
      "cell_type": "markdown",
      "source": [
        "Q35"
      ],
      "metadata": {
        "id": "U4SGtPn9rDlN"
      }
    },
    {
      "cell_type": "code",
      "source": [
        "for toaru in range(0,20,2):\n",
        "  print(toaru)"
      ],
      "metadata": {
        "colab": {
          "base_uri": "https://localhost:8080/"
        },
        "id": "xTsj2YsXqnFz",
        "outputId": "bee2a34f-6523-48cc-dab5-4bb527ff72ec"
      },
      "execution_count": null,
      "outputs": [
        {
          "output_type": "stream",
          "name": "stdout",
          "text": [
            "0\n",
            "2\n",
            "4\n",
            "6\n",
            "8\n",
            "10\n",
            "12\n",
            "14\n",
            "16\n",
            "18\n"
          ]
        }
      ]
    },
    {
      "cell_type": "markdown",
      "source": [
        "Q36"
      ],
      "metadata": {
        "id": "ZFTykMX2rIxJ"
      }
    },
    {
      "cell_type": "code",
      "source": [
        "for inte in range(12,-9,-3):\n",
        "  print(inte)"
      ],
      "metadata": {
        "id": "7I_mBGzcrLxt",
        "colab": {
          "base_uri": "https://localhost:8080/"
        },
        "outputId": "d13f1f22-447d-4bdb-8122-05d704ef019d"
      },
      "execution_count": null,
      "outputs": [
        {
          "output_type": "stream",
          "name": "stdout",
          "text": [
            "12\n",
            "9\n",
            "6\n",
            "3\n",
            "0\n",
            "-3\n",
            "-6\n"
          ]
        }
      ]
    },
    {
      "cell_type": "markdown",
      "source": [
        "Q37\n"
      ],
      "metadata": {
        "id": "5W2gjcjnZC_3"
      }
    },
    {
      "cell_type": "code",
      "source": [
        "for numero in range(1,31,1):\n",
        "  print(numero)"
      ],
      "metadata": {
        "colab": {
          "base_uri": "https://localhost:8080/"
        },
        "id": "SfAQltoQ7rni",
        "outputId": "3d47363a-244e-49fe-f7a2-6679dedecc51"
      },
      "execution_count": null,
      "outputs": [
        {
          "output_type": "stream",
          "name": "stdout",
          "text": [
            "1\n",
            "2\n",
            "3\n",
            "4\n",
            "5\n",
            "6\n",
            "7\n",
            "8\n",
            "9\n",
            "10\n",
            "11\n",
            "12\n",
            "13\n",
            "14\n",
            "15\n",
            "16\n",
            "17\n",
            "18\n",
            "19\n",
            "20\n",
            "21\n",
            "22\n",
            "23\n",
            "24\n",
            "25\n",
            "26\n",
            "27\n",
            "28\n",
            "29\n",
            "30\n"
          ]
        }
      ]
    },
    {
      "cell_type": "markdown",
      "source": [
        "Q38"
      ],
      "metadata": {
        "id": "KafjOS5N8BVj"
      }
    },
    {
      "cell_type": "code",
      "source": [
        "for numero in range(1,31,1):\n",
        "  if(numero%3!=0):\n",
        "   print(numero)"
      ],
      "metadata": {
        "colab": {
          "base_uri": "https://localhost:8080/"
        },
        "id": "v9kt7kSw8BBy",
        "outputId": "84785d26-1a77-49b7-dddf-2cd8b1b806c9"
      },
      "execution_count": null,
      "outputs": [
        {
          "output_type": "stream",
          "name": "stdout",
          "text": [
            "1\n",
            "2\n",
            "4\n",
            "5\n",
            "7\n",
            "8\n",
            "10\n",
            "11\n",
            "13\n",
            "14\n",
            "16\n",
            "17\n",
            "19\n",
            "20\n",
            "22\n",
            "23\n",
            "25\n",
            "26\n",
            "28\n",
            "29\n"
          ]
        }
      ]
    },
    {
      "cell_type": "markdown",
      "source": [
        "Q39"
      ],
      "metadata": {
        "id": "DQtdSr2j8nI-"
      }
    },
    {
      "cell_type": "code",
      "source": [
        "for numero in range(1,31,1):\n",
        "  if(numero%3!=0 and numero%5!=0):\n",
        "   print(numero)"
      ],
      "metadata": {
        "colab": {
          "base_uri": "https://localhost:8080/"
        },
        "id": "n1NR-rdn8ocP",
        "outputId": "a67cd988-ecea-4287-f069-3a8c0af48df1"
      },
      "execution_count": null,
      "outputs": [
        {
          "output_type": "stream",
          "name": "stdout",
          "text": [
            "1\n",
            "2\n",
            "4\n",
            "7\n",
            "8\n",
            "11\n",
            "13\n",
            "14\n",
            "16\n",
            "17\n",
            "19\n",
            "22\n",
            "23\n",
            "26\n",
            "28\n",
            "29\n"
          ]
        }
      ]
    },
    {
      "cell_type": "markdown",
      "source": [
        "Q40"
      ],
      "metadata": {
        "id": "7GJ8UX8M9Cia"
      }
    },
    {
      "cell_type": "code",
      "source": [
        "n1=int(input(\"Enter the no of stars do you want to see in the sky \"))\n",
        "for Strs in range(n1):\n",
        "  print(\"* \",end=\"\",flush=True)\n"
      ],
      "metadata": {
        "colab": {
          "base_uri": "https://localhost:8080/"
        },
        "id": "QbJVE5Nl9A6Q",
        "outputId": "8bac3e53-00ce-4ed7-b57f-56ec44b6aef9"
      },
      "execution_count": null,
      "outputs": [
        {
          "output_type": "stream",
          "name": "stdout",
          "text": [
            "Enter the no of stars do you want to see in the sky 12\n",
            "* * * * * * * * * * * * "
          ]
        }
      ]
    },
    {
      "cell_type": "markdown",
      "source": [
        "Q41"
      ],
      "metadata": {
        "id": "9CufYC5N_lJj"
      }
    },
    {
      "cell_type": "code",
      "source": [
        "for numero in range(26):\n",
        "  print(f\"{numero} {numero*0.01}\")"
      ],
      "metadata": {
        "colab": {
          "base_uri": "https://localhost:8080/"
        },
        "id": "QlCaFEOH_nBL",
        "outputId": "565b72b5-e389-4988-dbf4-328d1ab35643"
      },
      "execution_count": null,
      "outputs": [
        {
          "output_type": "stream",
          "name": "stdout",
          "text": [
            "0 0.0\n",
            "1 0.01\n",
            "2 0.02\n",
            "3 0.03\n",
            "4 0.04\n",
            "5 0.05\n",
            "6 0.06\n",
            "7 0.07\n",
            "8 0.08\n",
            "9 0.09\n",
            "10 0.1\n",
            "11 0.11\n",
            "12 0.12\n",
            "13 0.13\n",
            "14 0.14\n",
            "15 0.15\n",
            "16 0.16\n",
            "17 0.17\n",
            "18 0.18\n",
            "19 0.19\n",
            "20 0.2\n",
            "21 0.21\n",
            "22 0.22\n",
            "23 0.23\n",
            "24 0.24\n",
            "25 0.25\n"
          ]
        }
      ]
    },
    {
      "cell_type": "markdown",
      "source": [
        "Q42"
      ],
      "metadata": {
        "id": "QOSDjVzYAZ6u"
      }
    },
    {
      "cell_type": "code",
      "source": [
        "for numero in range(21):\n",
        "  func=((numero)/(1+(numero*numero)))\n",
        "  print(f\"{numero*0.1:.1f} {func*0.1:.3f}\")"
      ],
      "metadata": {
        "colab": {
          "base_uri": "https://localhost:8080/"
        },
        "id": "sJhsp_dvAbTo",
        "outputId": "66d4286f-f22b-41e8-90b3-d90dab86f407"
      },
      "execution_count": null,
      "outputs": [
        {
          "output_type": "stream",
          "name": "stdout",
          "text": [
            "0.0 0.000\n",
            "0.1 0.050\n",
            "0.2 0.040\n",
            "0.3 0.030\n",
            "0.4 0.024\n",
            "0.5 0.019\n",
            "0.6 0.016\n",
            "0.7 0.014\n",
            "0.8 0.012\n",
            "0.9 0.011\n",
            "1.0 0.010\n",
            "1.1 0.009\n",
            "1.2 0.008\n",
            "1.3 0.008\n",
            "1.4 0.007\n",
            "1.5 0.007\n",
            "1.6 0.006\n",
            "1.7 0.006\n",
            "1.8 0.006\n",
            "1.9 0.005\n",
            "2.0 0.005\n"
          ]
        }
      ]
    },
    {
      "cell_type": "markdown",
      "source": [
        "Q43"
      ],
      "metadata": {
        "id": "LKfKAgnwVupC"
      }
    },
    {
      "cell_type": "code",
      "source": [
        "def printfunc(x,y):\n",
        "  print(f\"{x*0.1:.1f}  {y*0.1:.3f}\")\n",
        "vs=int(input(\"Enter the start value \"))\n",
        "ve=int(input(\"Enter the end value \"))\n",
        "vst=int(input(\"Enter the Step value \"))\n",
        "for i in range(vs,ve,vst):\n",
        "   func=((i)/(1+(i*i)))\n",
        "   printfunc(i,func)"
      ],
      "metadata": {
        "id": "LlssngVgVuWh",
        "colab": {
          "base_uri": "https://localhost:8080/"
        },
        "outputId": "a4def632-67a7-4bc8-c27b-a8799420534c"
      },
      "execution_count": null,
      "outputs": [
        {
          "output_type": "stream",
          "name": "stdout",
          "text": [
            "Enter the start value 8\n",
            "Enter the end value 9\n",
            "Enter the Step value 1\n",
            "0.8  0.012\n"
          ]
        }
      ]
    },
    {
      "cell_type": "markdown",
      "source": [
        "Q44"
      ],
      "metadata": {
        "id": "v-IxEC6lX1tY"
      }
    },
    {
      "cell_type": "code",
      "source": [
        "def printfunc(x,y):\n",
        "  print(f\"{x*0.1:.1f}  {y*0.1:.3f}\")\n",
        "vs=int(input(\"Enter the start value \"))\n",
        "ve=int(input(\"Enter the end value \"))\n",
        "vst=int(input(\"Enter the Step value \"))\n",
        "for i in range(vs,ve,vst):\n",
        "   func=((i)/(1+(i*i)))\n",
        "   printfunc(i,func)"
      ],
      "metadata": {
        "id": "VpjqGtq7Vfz-"
      },
      "execution_count": null,
      "outputs": []
    },
    {
      "cell_type": "markdown",
      "source": [
        "Q45"
      ],
      "metadata": {
        "id": "HHAUDkKXX8tw"
      }
    },
    {
      "cell_type": "code",
      "source": [
        "def factorial(n):\n",
        "  b=1\n",
        "  for c in range(2,n+1):\n",
        "    b*=c\n",
        "  return b\n",
        "for i in range(1,11):\n",
        "   print(factorial(i))"
      ],
      "metadata": {
        "colab": {
          "base_uri": "https://localhost:8080/"
        },
        "id": "hTMD99sqX-H5",
        "outputId": "b53df107-993e-494c-c029-6d7159e24626"
      },
      "execution_count": null,
      "outputs": [
        {
          "output_type": "stream",
          "name": "stdout",
          "text": [
            "1\n",
            "2\n",
            "6\n",
            "24\n",
            "120\n",
            "720\n",
            "5040\n",
            "40320\n",
            "362880\n",
            "3628800\n"
          ]
        }
      ]
    },
    {
      "cell_type": "markdown",
      "source": [
        "Q46"
      ],
      "metadata": {
        "id": "-VfMkodYX-WI"
      }
    },
    {
      "cell_type": "code",
      "source": [
        "def asterisk(n):\n",
        "  for Strs in range(n1):\n",
        "     print(\"* \",end=\"\",flush=True)\n",
        "n1=int(input(\"Enter the no of stars do you want to see in the sky: \"))\n",
        "asterisk(n1)"
      ],
      "metadata": {
        "colab": {
          "base_uri": "https://localhost:8080/"
        },
        "id": "mGQi1mK_YAUo",
        "outputId": "b953e32a-b4ae-4830-d1d1-3450e6431a13"
      },
      "execution_count": null,
      "outputs": [
        {
          "output_type": "stream",
          "name": "stdout",
          "text": [
            "Enter the no of stars do you want to see in the sky 6\n",
            "* * * * * * "
          ]
        }
      ]
    },
    {
      "cell_type": "markdown",
      "source": [
        "Q47"
      ],
      "metadata": {
        "id": "X6LX5GTeYA05"
      }
    },
    {
      "cell_type": "markdown",
      "source": [
        "Subsection A"
      ],
      "metadata": {
        "id": "HTLIk7fHy79e"
      }
    },
    {
      "cell_type": "code",
      "source": [
        "import math as m\n",
        "def prime_or_not(p):\n",
        "    if p<=1:                                      #negative or zero\n",
        "      print(\"Invalid\")\n",
        "    for i in range(2, int(m.sqrt(p)) + 1,1):\n",
        "     if p%i==0:\n",
        "      print(\"Given no is composite\")\n",
        "     else:\n",
        "      print(\"Given no is prime\")\n",
        "\n",
        "u=int(input(\"Enter a no to check if prime or not: \"))\n",
        "prime_or_not(u)"
      ],
      "metadata": {
        "id": "g2cgQZcBYC4A",
        "colab": {
          "base_uri": "https://localhost:8080/"
        },
        "outputId": "c426c73c-5050-4126-9be4-63fad8675328"
      },
      "execution_count": null,
      "outputs": [
        {
          "output_type": "stream",
          "name": "stdout",
          "text": [
            "Enter a no to check if prime or not: 6\n",
            "Given no is composite\n"
          ]
        }
      ]
    },
    {
      "cell_type": "markdown",
      "source": [
        "Subsection B"
      ],
      "metadata": {
        "id": "-y_cBghr5KoU"
      }
    },
    {
      "cell_type": "code",
      "source": [
        "def prime_or_not_V2(N):\n",
        "    primes = [2]                 #initialise value of 2\n",
        "    num = 3\n",
        "    while len(primes) < N:\n",
        "        is_prime = True\n",
        "        for i in range(len(primes)):\n",
        "            if num % primes[i] == 0:\n",
        "                is_prime = False\n",
        "                break\n",
        "        if is_prime:\n",
        "            primes.append(num)\n",
        "        num += 2                         #Iterate through only odd numbers so that we can reduce no of iterations\n",
        "\n",
        "    for i in range(len(primes)):\n",
        "        print(primes[i], end=\" \")        #Printing the List\n",
        "    print()\n",
        "\n",
        "fN=int(input(\"Enter the value of N \"))\n",
        "prime_or_not_V2(fN)\n"
      ],
      "metadata": {
        "colab": {
          "base_uri": "https://localhost:8080/"
        },
        "id": "_CAEoq9FTTSd",
        "outputId": "7a52fa13-0457-4ef4-af52-ad5585602f55"
      },
      "execution_count": 3,
      "outputs": [
        {
          "output_type": "stream",
          "name": "stdout",
          "text": [
            "Enter the value of N 7\n",
            "2 3 5 7 11 13 17 \n"
          ]
        }
      ]
    },
    {
      "cell_type": "markdown",
      "source": [
        "Subsection C\n"
      ],
      "metadata": {
        "id": "oeivGM_ZEI51"
      }
    },
    {
      "cell_type": "code",
      "source": [
        "n1=int(input(\"Enter the number you wish to check: \"))\n",
        "sumP=0\n",
        "for i in range(1,n1):\n",
        "    if (n1%i==0):\n",
        "        sumP=sumP+i\n",
        "if(sumP==n1):\n",
        "    print(\"The entered number is a perfect number\")\n",
        "else:\n",
        "    print(\"The entered number is not a perfect number\")"
      ],
      "metadata": {
        "id": "CU3WQMn0ELhO",
        "colab": {
          "base_uri": "https://localhost:8080/"
        },
        "outputId": "5a2a0ca9-c5ee-420d-a14f-d2a16adc0a46"
      },
      "execution_count": 6,
      "outputs": [
        {
          "output_type": "stream",
          "name": "stdout",
          "text": [
            "Enter the number you wish to check: 8\n",
            "The entered number is not a perfect number\n"
          ]
        }
      ]
    },
    {
      "cell_type": "markdown",
      "source": [
        "Subsection D"
      ],
      "metadata": {
        "id": "DO3J1M6vEL6O"
      }
    },
    {
      "cell_type": "code",
      "source": [
        "\n",
        "def is_perfect_number(n1):\n",
        "  sumP=0\n",
        "  for i in range(1,n1):\n",
        "    if (n1%i==0):\n",
        "        sumP=sumP+i\n",
        "  if sumP==n1:\n",
        "        return True\n",
        "\n",
        "pN=int(input(\"Enter the value of N \"))\n",
        "perfect_numbers = []                            #intialising the list\n",
        "num = 2\n",
        "while len(perfect_numbers) < pN:\n",
        "        if is_perfect_number(num):\n",
        "            perfect_numbers.append(num)\n",
        "        num += 1\n",
        "\n",
        "for i in range (len(perfect_numbers)):         #printing the list\n",
        "  print(perfect_numbers[i], end=\" \")\n",
        "\n",
        "\n"
      ],
      "metadata": {
        "id": "fFCTy731EOJI",
        "colab": {
          "base_uri": "https://localhost:8080/"
        },
        "outputId": "8237ef7f-01b6-4c1e-998b-a43643363962"
      },
      "execution_count": 16,
      "outputs": [
        {
          "output_type": "stream",
          "name": "stdout",
          "text": [
            "Enter the value of N 4\n",
            "6 28 496 8128 "
          ]
        }
      ]
    },
    {
      "cell_type": "markdown",
      "source": [
        "Subsection E"
      ],
      "metadata": {
        "id": "Xxnh2HSMfP0i"
      }
    },
    {
      "cell_type": "code",
      "source": [
        "def find_near_miss_perfect_numbers(n, delta):\n",
        "    near_miss_perfect_numbers = []\n",
        "    num = 2\n",
        "    while len(near_miss_perfect_numbers) < n:\n",
        "        factors_sum = sum(i for i in range(1, num) if num % i == 0)\n",
        "        if factors_sum == num + delta or factors_sum == num - delta:\n",
        "            near_miss_perfect_numbers.append(num)\n",
        "        num += 1\n",
        "    return near_miss_perfect_numbers\n",
        "nNMPN=int(input(\"Enter no of entries\"))\n",
        "d_value=int(input(\"Enter the delta value \"))\n",
        "near_miss_numbers = find_near_miss_perfect_numbers(nNMPN, d_value)\n",
        "print(f\"The first {nNMPN} near-miss perfect numbers are: {near_miss_numbers}\")\n",
        "\n"
      ],
      "metadata": {
        "colab": {
          "base_uri": "https://localhost:8080/"
        },
        "id": "FAeMyvKIfRqZ",
        "outputId": "7e82cedc-af59-4494-e22a-9d631fb39ab3"
      },
      "execution_count": 18,
      "outputs": [
        {
          "output_type": "stream",
          "name": "stdout",
          "text": [
            "Enter no of entries4\n",
            "Enter the delta value 1\n",
            "The first 4 near-miss perfect numbers are: [2, 4, 8, 16]\n"
          ]
        }
      ]
    }
  ]
}